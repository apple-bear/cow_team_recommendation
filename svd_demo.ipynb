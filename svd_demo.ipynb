{
 "cells": [
  {
   "cell_type": "code",
   "execution_count": 28,
   "metadata": {},
   "outputs": [
    {
     "name": "stdout",
     "output_type": "stream",
     "text": [
      "最佳RMSE得分\n",
      " 2.389602823190996\n",
      "最佳FCP得分\n",
      " 0.4991754321724799\n",
      "最佳RMSE对应的参数组合\n",
      " {'n_epochs': 10, 'lr_all': 0.005, 'reg_all': 0.4}\n",
      "最佳FCP对应的参数组合\n",
      " {'n_epochs': 5, 'lr_all': 0.002, 'reg_all': 0.6}\n"
     ]
    }
   ],
   "source": [
    "import pandas as pd\n",
    "import os\n",
    "from surprise import SVD\n",
    "from surprise import Reader, Dataset\n",
    "from surprise.model_selection import GridSearchCV\n",
    "# from surprise import evaluate, print_perf\n",
    "\n",
    "\n",
    "# 指定文件路径（包含‘user-item-rating’的数据）\n",
    "# 协同过滤召回阶段不需要timestamp列吧？？？\n",
    "file_path = \"../dataset/dataset1/user.csv\"\n",
    "df = pd.read_csv(file_path, usecols=['用户ID', '电影名', '评分'])\n",
    "df = df.rename(columns={'评分':'rating', '用户ID':'user', '电影名':'item'})\n",
    "\n",
    "# 从数据中看评分的值有5种：2,4,6,8,10，范围是(2,10)\n",
    "# rating_scale, tuple:The minimum and maximal rating of the rating scale.\n",
    "reader = Reader(rating_scale=(2,10))\n",
    "data = Dataset.load_from_df(df[['user', 'item', 'rating']], reader)\n",
    "\n",
    "# 定义需要优选的参数网格\n",
    "param_grid = {'n_epochs': [5, 10], 'lr_all': [0.002, 0.005],\n",
    "              'reg_all': [0.4, 0.6]}\n",
    "gs = GridSearchCV(SVD, param_grid, measures=['rmse', 'mae', 'fcp'], cv=3)\n",
    "gs.fit(data)\n",
    "\n",
    "# 最佳 RMSE 得分\n",
    "print('最佳RMSE得分\\n', gs.best_score['rmse'])\n",
    "print('最佳FCP得分\\n', gs.best_score['fcp'])\n",
    "\n",
    "# 能达到最佳 RMSE 得分的参数组合\n",
    "print('最佳RMSE对应的参数组合\\n', gs.best_params['rmse'])\n",
    "print('最佳FCP对应的参数组合\\n', gs.best_params['fcp'])"
   ]
  },
  {
   "cell_type": "code",
   "execution_count": 29,
   "metadata": {},
   "outputs": [
    {
     "name": "stdout",
     "output_type": "stream",
     "text": [
      "NormalPredictor perf:\n",
      " {'test_rmse': array([3.4992782 , 3.48622305, 3.48919337]), 'test_mae': array([2.84053553, 2.8271095 , 2.82872745]), 'test_fcp': array([0.50230389, 0.50652295, 0.48729471]), 'fit_time': (0.22785353660583496, 0.29184556007385254, 0.30981993675231934), 'test_time': (0.6586208343505859, 0.57065749168396, 0.743586540222168)}\n",
      "Estimating biases using als...\n",
      "Estimating biases using als...\n",
      "Estimating biases using als...\n",
      "BaselineOnly perf:\n",
      " {'test_rmse': array([2.37463381, 2.37773532, 2.3771239 ]), 'test_mae': array([1.9991788 , 1.99596062, 1.99683421]), 'test_fcp': array([0.50407269, 0.50875925, 0.49419509]), 'fit_time': (0.4780704975128174, 0.5392487049102783, 0.5000476837158203), 'test_time': (0.4367482662200928, 0.5326733589172363, 0.5037007331848145)}\n",
      "Computing the msd similarity matrix...\n",
      "Done computing similarity matrix.\n",
      "Computing the msd similarity matrix...\n",
      "Done computing similarity matrix.\n",
      "Computing the msd similarity matrix...\n",
      "Done computing similarity matrix.\n",
      "KNNWithMeans perf:\n",
      " {'test_rmse': array([2.36139365, 2.36360073, 2.37429227]), 'test_mae': array([1.79277968, 1.79221045, 1.79705989]), 'test_fcp': array([0.67829999, 0.69226867, 0.6695107 ]), 'fit_time': (5.413800954818726, 5.226991176605225, 5.163999795913696), 'test_time': (1.2942497730255127, 1.141343116760254, 1.2642741203308105)}\n",
      "Estimating biases using als...\n",
      "Computing the msd similarity matrix...\n",
      "Done computing similarity matrix.\n",
      "Estimating biases using als...\n",
      "Computing the msd similarity matrix...\n",
      "Done computing similarity matrix.\n",
      "Estimating biases using als...\n",
      "Computing the msd similarity matrix...\n",
      "Done computing similarity matrix.\n",
      "KNNBaseline perf:\n",
      " {'test_rmse': array([2.51942655, 2.50752045, 2.50939197]), 'test_mae': array([2.08859601, 2.07727117, 2.08078453]), 'test_fcp': array([0.49947418, 0.50294248, 0.50077491]), 'fit_time': (5.4408674240112305, 5.421291828155518, 5.172038555145264), 'test_time': (1.3202519416809082, 1.3082315921783447, 1.3302574157714844)}\n",
      "SVD perf:\n",
      " {'test_rmse': array([2.33213756, 2.32612906, 2.330707  ]), 'test_mae': array([1.92765844, 1.91687889, 1.9218091 ]), 'test_fcp': array([0.49918209, 0.50099379, 0.48894088]), 'fit_time': (10.590903282165527, 10.51796007156372, 10.683854579925537), 'test_time': (0.8774800300598145, 0.6885888576507568, 0.8095290660858154)}\n",
      "SVDpp perf:\n",
      " {'test_rmse': array([2.33922031, 2.33695455, 2.33063032]), 'test_mae': array([1.90202634, 1.90027544, 1.90046649]), 'test_fcp': array([0.51080109, 0.4952525 , 0.49103467]), 'fit_time': (123.66642355918884, 117.79093170166016, 114.72211289405823), 'test_time': (4.942739009857178, 5.122037649154663, 5.0211241245269775)}\n",
      "NMF perf:\n",
      " {'test_rmse': array([2.96662492, 2.96318295, 2.96301045]), 'test_mae': array([2.44010022, 2.4432153 , 2.44107415]), 'test_fcp': array([0.49667811, 0.5264778 , 0.51391916]), 'fit_time': (16.198543548583984, 16.213778018951416, 15.550068378448486), 'test_time': (0.6566359996795654, 0.5946340560913086, 0.7285761833190918)}\n"
     ]
    }
   ],
   "source": [
    "# 算法效果对比\n",
    "from surprise import NormalPredictor # 假设评分数据来自一个正态分布\n",
    "from surprise import BaselineOnly    #\n",
    "from surprise import KNNWithMeans    # 在基础的CF算法上，去除了平均的均值\n",
    "from surprise import KNNBaseline     # 在KNNWithMeans基础上，用baseline的值替换均值\n",
    "from surprise import SVD             # 矩阵分解算法svd(biasSVD与funkSVD)\n",
    "from surprise import SVDpp           # 考虑了隐反馈\n",
    "from surprise import NMF             # 非负矩阵分解\n",
    "from surprise.model_selection import cross_validate\n",
    "\n",
    "algo = NormalPredictor()\n",
    "perf = cross_validate(algo, data, measures=['rmse', 'mae', 'fcp'], cv=3)\n",
    "print('NormalPredictor perf:\\n', perf)\n",
    "\n",
    "algo = BaselineOnly()\n",
    "perf = cross_validate(algo, data, measures=['rmse', 'mae', 'fcp'], cv=3)\n",
    "print('BaselineOnly perf:\\n', perf)\n",
    "\n",
    "algo = KNNWithMeans()\n",
    "perf = cross_validate(algo, data, measures=['rmse', 'mae', 'fcp'], cv=3)\n",
    "print('KNNWithMeans perf:\\n', perf)\n",
    "\n",
    "algo = KNNBaseline()\n",
    "perf = cross_validate(algo, data, measures=['rmse', 'mae', 'fcp'], cv=3)\n",
    "print('KNNBaseline perf:\\n', perf)\n",
    "\n",
    "algo = SVD()\n",
    "perf = cross_validate(algo, data, measures=['rmse', 'mae', 'fcp'], cv=3)\n",
    "print('SVD perf:\\n', perf)\n",
    "\n",
    "algo = SVDpp()\n",
    "perf = cross_validate(algo, data, measures=['rmse', 'mae', 'fcp'], cv=3)\n",
    "print('SVDpp perf:\\n', perf)\n",
    "\n",
    "algo = NMF()\n",
    "perf = cross_validate(algo, data, measures=['rmse', 'mae', 'fcp'], cv=3)\n",
    "print('NMF perf:\\n', perf)"
   ]
  },
  {
   "cell_type": "code",
   "execution_count": null,
   "metadata": {},
   "outputs": [],
   "source": [
    "# 算法选定，调参完成，进行预测\n",
    "\n",
    "trainset = data.build_full_trainset()\n",
    "# sim_options = {'name': 'pearson_baseline', 'user_based':False}\n",
    "# # 基线估计(Baselines estimates)配置\n",
    "# bsl_options = {'method':'als',\n",
    "#               'reg_u':12,\n",
    "#               'reg_i':5,\n",
    "#               'n_epochs':5,}\n",
    "\n",
    "# # bsl_options = {'method':'sgd',\n",
    "# #               'learning_rate':.00005,\n",
    "# #               'n_epochs':10}\n",
    "# algo = KNNBaseline(k=20, min_k=1, sim_options=sim_options, bsl_options=bsl_options)\n",
    "# algo.fit(trainset)\n",
    "\n",
    "# 假设给定一个用户列表，给每一个用户推荐topN\n",
    "user_inner_id_list = trainset.all_users()\n",
    "for user_inner_id in user_inner_id_list:\n",
    "    \n",
    "\n"
   ]
  },
  {
   "cell_type": "code",
   "execution_count": null,
   "metadata": {},
   "outputs": [],
   "source": [
    "data.head()"
   ]
  },
  {
   "cell_type": "code",
   "execution_count": null,
   "metadata": {},
   "outputs": [],
   "source": [
    "a = pd.read_csv(\"../dataset/dataset1/user.csv\", encoding='utf-8')\n",
    "a.head()"
   ]
  }
 ],
 "metadata": {
  "kernelspec": {
   "display_name": "Python 3",
   "language": "python",
   "name": "python3"
  },
  "language_info": {
   "codemirror_mode": {
    "name": "ipython",
    "version": 3
   },
   "file_extension": ".py",
   "mimetype": "text/x-python",
   "name": "python",
   "nbconvert_exporter": "python",
   "pygments_lexer": "ipython3",
   "version": "3.7.0"
  }
 },
 "nbformat": 4,
 "nbformat_minor": 2
}
